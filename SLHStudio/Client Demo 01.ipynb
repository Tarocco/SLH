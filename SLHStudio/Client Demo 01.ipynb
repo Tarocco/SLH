{
 "cells": [
  {
   "cell_type": "markdown",
   "metadata": {},
   "source": [
    "# Setup\n",
    "Update path, load assemblies and import modules"
   ]
  },
  {
   "cell_type": "code",
   "execution_count": 2,
   "metadata": {},
   "outputs": [],
   "source": [
    "import os\n",
    "import sys\n",
    "sys.path.extend([\n",
    "    '../.venv/Lib',\n",
    "    '../.venv/Lib/site-packages',\n",
    "    '../LibSLH/bin/Debug/netstandard2.0'])\n",
    "import clr\n",
    "sys.path.append('')\n",
    "\n",
    "clr.AddReference('System.Drawing')\n",
    "clr.AddReference('LibreMetaverse')\n",
    "clr.AddReference('LibSLH')\n",
    "\n",
    "# Commonly used\n",
    "from OpenMetaverse import *\n",
    "from LibSLH import *\n",
    "\n",
    "# Important imports\n",
    "from slhstudio import *\n",
    "from helpers import *\n",
    "\n",
    "import System.Drawing.Imaging\n",
    "import math\n",
    "import asyncio\n",
    "from IPython.display import display_html, clear_output"
   ]
  },
  {
   "cell_type": "markdown",
   "metadata": {},
   "source": [
    "# Start the Client"
   ]
  },
  {
   "cell_type": "code",
   "execution_count": 3,
   "metadata": {},
   "outputs": [],
   "source": [
    "client = Client()\n",
    "client.start()"
   ]
  },
  {
   "cell_type": "markdown",
   "metadata": {},
   "source": [
    "# Main event loop override\n",
    "Make the client rotate in place by overriding the main update function. This ensures that world objects will begin to load for the client."
   ]
  },
  {
   "cell_type": "code",
   "execution_count": null,
   "metadata": {
    "scrolled": false
   },
   "outputs": [],
   "source": [
    "def spin_client(client):\n",
    "    while True:\n",
    "        for i in range(16):\n",
    "            theta = math.pi * i / 16\n",
    "            direction = Vector3(math.cos(theta), math.sin(theta), 0.0)\n",
    "            # Oof gamer https://github.com/pythonnet/pythonnet/issues/906\n",
    "            rotation = Vector3.RotationBetween(Vector3.UnitX, Vector3.Normalize(direction))\n",
    "            target = Vector3.Add(client.Self.SimPosition, direction)  \n",
    "            client.Self.Movement.Camera.LookAt(client.Self.SimPosition, target);\n",
    "            client.Self.Movement.SendUpdate()\n",
    "            yield True\n",
    "\n",
    "spin = spin_client(client)\n",
    "async def my_update():\n",
    "    next(spin)\n",
    "    await asyncio.sleep(0.1)\n",
    "\n",
    "client.update = my_update"
   ]
  },
  {
   "cell_type": "markdown",
   "metadata": {},
   "source": [
    "# Examples"
   ]
  },
  {
   "cell_type": "markdown",
   "metadata": {},
   "source": [
    "### Say a message in local chat"
   ]
  },
  {
   "cell_type": "code",
   "execution_count": null,
   "metadata": {},
   "outputs": [],
   "source": [
    "def say(obj):\n",
    "    client.Self.Chat(str(obj), 0, ChatType.Normal)"
   ]
  },
  {
   "cell_type": "code",
   "execution_count": null,
   "metadata": {},
   "outputs": [],
   "source": [
    "say('hey lol')"
   ]
  },
  {
   "cell_type": "markdown",
   "metadata": {},
   "source": [
    "### Misc. examples"
   ]
  },
  {
   "cell_type": "code",
   "execution_count": null,
   "metadata": {},
   "outputs": [],
   "source": [
    "{str(e.Key): str(e.Value) for e in client.Network.CurrentSim.AvatarPositions.Copy()}"
   ]
  },
  {
   "cell_type": "code",
   "execution_count": null,
   "metadata": {},
   "outputs": [],
   "source": [
    "{str(e.Key): str(e.Value) for e in client.Friends.FriendList.Copy()}"
   ]
  },
  {
   "cell_type": "code",
   "execution_count": null,
   "metadata": {},
   "outputs": [],
   "source": [
    "def debug_point_at(sender, args):\n",
    "    pt = str(args.PointType)\n",
    "    id = str(args.TargetID)\n",
    "    pos = str(args.TargetPosition)\n",
    "    message = f'{pt}, {id}, {pos}'\n",
    "    client.Self.Chat(message, 0, ChatType.Normal)\n",
    "remove_all_event_handlers(client.Avatars, 'ViewerEffectPointAt')\n",
    "client.Avatars.ViewerEffectPointAt += debug_point_at"
   ]
  },
  {
   "cell_type": "markdown",
   "metadata": {},
   "source": [
    "### Debug Textures!"
   ]
  },
  {
   "cell_type": "code",
   "execution_count": null,
   "metadata": {},
   "outputs": [],
   "source": [
    "def get_prim_texture_info(prim):\n",
    "    yield prim.Textures.DefaultTexture\n",
    "    yield from filter(lambda t: t, prim.Textures.FaceTextures)\n",
    "\n",
    "def display_multi_image(paths, max_width=256):\n",
    "    tags = [f'<img src=\"{path}\" style=\"display: inline-block; max-width: {max_width}px\">' for path in paths]\n",
    "    display_html('\\n'.join(tags), raw=True)\n",
    "\n",
    "def get_image_path(uuid):\n",
    "    path = os.path.join('img_cache', str(uuid) + '.png')\n",
    "    if not os.path.exists(path):\n",
    "        client.GetTextureByUUID(uuid).Save(path)\n",
    "    return path\n",
    "\n",
    "def debug_textures_on_selection(sender, args):\n",
    "    if args.PointType == PointAtType.Select:\n",
    "        local_id = client.GetPrimLocalId(args.TargetID)\n",
    "        parent_id = client.GetParentLocalId(local_id)\n",
    "        parent_id = parent_id or local_id\n",
    "        link_set = list(client.GetLinkSetLocalIds(parent_id))\n",
    "        prims = [client.Objects.GetPrimitive(args.Simulator, System.UInt32(id), UUID.Zero, False) for id in link_set]\n",
    "        tex_info = [info for prim in prims for info in get_prim_texture_info(prim)]\n",
    "        tex_uuids = list({info.TextureID for info in tex_info})\n",
    "        clear_output()\n",
    "        print(\"Loading images, please wait...\")\n",
    "        file_paths = [get_image_path(uuid) for uuid in tex_uuids]\n",
    "        clear_output()\n",
    "        display_multi_image(file_paths, 64)\n",
    "remove_all_event_handlers(client.Avatars, 'ViewerEffectPointAt')\n",
    "client.Avatars.ViewerEffectPointAt += debug_textures_on_selection"
   ]
  },
  {
   "cell_type": "markdown",
   "metadata": {},
   "source": [
    "# Stop the client"
   ]
  },
  {
   "cell_type": "code",
   "execution_count": 7,
   "metadata": {},
   "outputs": [],
   "source": [
    "client.stop()"
   ]
  }
 ],
 "metadata": {
  "kernelspec": {
   "display_name": "Python 3",
   "language": "python",
   "name": "python3"
  },
  "language_info": {
   "codemirror_mode": {
    "name": "ipython",
    "version": 3
   },
   "file_extension": ".py",
   "mimetype": "text/x-python",
   "name": "python",
   "nbconvert_exporter": "python",
   "pygments_lexer": "ipython3",
   "version": "3.6.5"
  }
 },
 "nbformat": 4,
 "nbformat_minor": 2
}
