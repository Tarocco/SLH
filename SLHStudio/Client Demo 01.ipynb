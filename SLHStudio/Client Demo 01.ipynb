{
 "cells": [
  {
   "cell_type": "markdown",
   "metadata": {},
   "source": [
    "# Setup\n",
    "Update path, load assemblies and import modules"
   ]
  },
  {
   "cell_type": "code",
   "execution_count": 18,
   "metadata": {},
   "outputs": [],
   "source": [
    "import os\n",
    "import sys\n",
    "sys.path.extend([\n",
    "    '.venv/Lib',\n",
    "    '.venv/Lib/site-packages',\n",
    "    '../LibSLH/bin/Release/netstandard2.0'])\n",
    "import clr\n",
    "sys.path.append('')\n",
    "\n",
    "clr.AddReference('System.Drawing')\n",
    "clr.AddReference('LibreMetaverse')\n",
    "clr.AddReference('LibSLH')\n",
    "\n",
    "# Commonly used\n",
    "from OpenMetaverse import *\n",
    "from LibSLH import *\n",
    "\n",
    "# Important imports\n",
    "from slhstudio import *\n",
    "from helpers import *\n",
    "\n",
    "import System.Drawing.Imaging\n",
    "import math\n",
    "import asyncio\n",
    "from IPython.display import display, display_html, clear_output\n",
    "from ipywidgets import widgets\n",
    "from collections import defaultdict\n",
    "from types import SimpleNamespace\n"
   ]
  },
  {
   "cell_type": "markdown",
   "metadata": {},
   "source": [
    "# Start the Client\n",
    "Can also be used to restart a new client instance"
   ]
  },
  {
   "cell_type": "code",
   "execution_count": 19,
   "metadata": {},
   "outputs": [],
   "source": [
    "client = Client()\n",
    "client.start()\n",
    "\n",
    "client_namespace = SimpleNamespace()\n",
    "def client_event_handler(event):\n",
    "    return event_handler(client_namespace, event)"
   ]
  },
  {
   "cell_type": "markdown",
   "metadata": {},
   "source": [
    "# Periodic update override\n",
    "Make the client rotate in place by overriding the main update function. This ensures that world objects will begin to load for the client."
   ]
  },
  {
   "cell_type": "code",
   "execution_count": 20,
   "metadata": {
    "scrolled": false
   },
   "outputs": [],
   "source": [
    "update_coros = {}\n",
    "def spin_client(client):\n",
    "    while True:\n",
    "        for i in range(16):\n",
    "            theta = math.pi * i / 16\n",
    "            direction = Vector3(math.cos(theta), math.sin(theta), 0.0)\n",
    "            # Oof gamer https://github.com/pythonnet/pythonnet/issues/906\n",
    "            rotation = Vector3.RotationBetween(Vector3.UnitX, Vector3.Normalize(direction))\n",
    "            target = Vector3.Add(client.Self.SimPosition, direction)  \n",
    "            client.Self.Movement.Camera.LookAt(client.Self.SimPosition, target);\n",
    "            client.Self.Movement.SendUpdate()\n",
    "            yield True\n",
    "\n",
    "update_coros['spin'] = spin_client(client)\n",
    "async def my_update():\n",
    "    for key in update_coros:\n",
    "        next(update_coros[key])\n",
    "    await asyncio.sleep(0.1)\n",
    "\n",
    "client.update = my_update"
   ]
  },
  {
   "cell_type": "markdown",
   "metadata": {},
   "source": [
    "# Examples"
   ]
  },
  {
   "cell_type": "markdown",
   "metadata": {},
   "source": [
    "### Say a message in local chat"
   ]
  },
  {
   "cell_type": "code",
   "execution_count": 7,
   "metadata": {},
   "outputs": [],
   "source": [
    "def say(obj):\n",
    "    client.Self.Chat(str(obj), 0, ChatType.Normal)"
   ]
  },
  {
   "cell_type": "code",
   "execution_count": 9,
   "metadata": {},
   "outputs": [],
   "source": [
    "say([x for x in range(10)])"
   ]
  },
  {
   "cell_type": "markdown",
   "metadata": {},
   "source": [
    "### Misc. examples"
   ]
  },
  {
   "cell_type": "code",
   "execution_count": 12,
   "metadata": {},
   "outputs": [
    {
     "name": "stdout",
     "output_type": "stream",
     "text": [
      "{'b1d22e67-c078-4e34-9818-3f849b005686': '<124, 133, 568>', '4f8b7e1d-6ba4-42db-9fcc-6c21de52e8e1': '<127, 109, 996>', '4017a11f-b314-450f-9d5b-2f8a04bdc7b3': '<127, 113, 996>', '8aec473c-a544-482d-bc81-b8883ef10664': '<119, 204, 1020>', '142194dc-7775-4553-ae8a-d3b9910e792c': '<119, 116, 996>', '68dcb627-4953-4380-a2bf-90eb789e1ea6': '<97, 188, 24>', '5fe7946d-19ce-4543-bde8-3cbae8f93cfc': '<126, 111, 996>', '36481ba4-856a-49f1-8b05-a5921c7076bf': '<127, 109, 996>', 'de17eabb-ad31-47d1-9df2-799457824ceb': '<126, 113, 996>', '045edb89-8a00-40f6-bd9a-cd4ff4e386f7': '<126, 110, 996>', '4edadd12-606a-42de-be2f-06ce3a85853c': '<134, 109, 32>', 'de698c09-fd92-4e74-820d-3faad044659e': '<126, 110, 996>', '199dae5a-96c5-4400-91d9-c8dfdf91dd3a': '<247, 12, 1020>'}\n"
     ]
    }
   ],
   "source": [
    "avatars = {str(e.Key): str(e.Value) for e in client.Network.CurrentSim.AvatarPositions.Copy()}\n",
    "say(avatars)\n",
    "print(avatars)"
   ]
  },
  {
   "cell_type": "code",
   "execution_count": 10,
   "metadata": {},
   "outputs": [
    {
     "data": {
      "text/plain": [
       "{'de17eabb-ad31-47d1-9df2-799457824ceb': 'Tarocco Banana (Their Rights: CanSeeOnline, My Rights: CanSeeOnline)'}"
      ]
     },
     "execution_count": 10,
     "metadata": {},
     "output_type": "execute_result"
    }
   ],
   "source": [
    "{str(e.Key): str(e.Value) for e in client.Friends.FriendList.Copy()}"
   ]
  },
  {
   "cell_type": "code",
   "execution_count": 14,
   "metadata": {},
   "outputs": [],
   "source": [
    "def debug_point_at(sender, args):\n",
    "    pt = str(args.PointType)\n",
    "    id = str(args.TargetID)\n",
    "    pos = str(args.TargetPosition)\n",
    "    message = f'{pt}, {id}, {pos}'\n",
    "    client.Self.Chat(message, 0, ChatType.Normal)\n",
    "remove_all_event_handlers(client.Avatars, 'ViewerEffectPointAt')\n",
    "client.Avatars.ViewerEffectPointAt += debug_point_at"
   ]
  },
  {
   "cell_type": "code",
   "execution_count": 28,
   "metadata": {},
   "outputs": [],
   "source": [
    "#dir(client.Inventory.BulkUpdateInventoryHandler)"
   ]
  },
  {
   "cell_type": "markdown",
   "metadata": {},
   "source": [
    "### Accept teleport requests"
   ]
  },
  {
   "cell_type": "code",
   "execution_count": 21,
   "metadata": {},
   "outputs": [
    {
     "data": {
      "application/vnd.jupyter.widget-view+json": {
       "model_id": "7c5a4997d6b94a6081c552d30912ae9b",
       "version_major": 2,
       "version_minor": 0
      },
      "text/plain": [
       "Text(value='')"
      ]
     },
     "metadata": {},
     "output_type": "display_data"
    },
    {
     "name": "stdout",
     "output_type": "stream",
     "text": [
      "done\n"
     ]
    }
   ],
   "source": [
    "# TODO\n",
    "authorized_avatars = {}\n",
    "authorized_av_tf = widgets.Text()\n",
    "display(authorized_av_tf)\n",
    "\n",
    "def authorized_av_tf_submit(sender):\n",
    "    avatars = sender.value.split(',')\n",
    "    query_ids = [UUID.Random() for _ in avatars]\n",
    "    lookup = dict(zip(query_ids, avatars))\n",
    "    def handle_reply(sender, args):\n",
    "        # args.Avatars seems to always have just 1 element\n",
    "        if args.QueryID in lookup:\n",
    "            info = list(args.Avatars)[0]\n",
    "            uuid, name = info.Key, info.Value\n",
    "            authorized_avatars[uuid] = name\n",
    "            del lookup[args.QueryID]\n",
    "        if not lookup:\n",
    "            print('done')\n",
    "            client.Avatars.AvatarPickerReply -= handle_reply\n",
    "        \n",
    "    \n",
    "    remove_all_event_handlers(client.Avatars, 'AvatarPickerReply')\n",
    "    client.Avatars.AvatarPickerReply += handle_reply\n",
    "    for qid in lookup:\n",
    "        client.Avatars.RequestAvatarNameSearch(lookup[qid], qid)\n",
    "\n",
    "@client_event_handler(client.Self.IM)\n",
    "def handle_instant_message(sender, args):\n",
    "    dialog = args.IM.Dialog\n",
    "    if dialog == 22: # RequestTeleport\n",
    "        from_agent_id = args.IM.FromAgentID\n",
    "        if from_agent_id in authorized_avatars:\n",
    "            session_id = args.IM.IMSessionID\n",
    "            client.Self.TeleportLureRespond(from_agent_id, session_id, True)\n",
    "    \n",
    "\n",
    "authorized_av_tf.on_submit(authorized_av_tf_submit)"
   ]
  },
  {
   "cell_type": "markdown",
   "metadata": {},
   "source": [
    "### Debug Textures!"
   ]
  },
  {
   "cell_type": "code",
   "execution_count": 16,
   "metadata": {},
   "outputs": [
    {
     "name": "stdout",
     "output_type": "stream",
     "text": [
      "Loading images, please wait...\n"
     ]
    }
   ],
   "source": [
    "def get_prim_texture_info(prim):\n",
    "    yield prim.Textures.DefaultTexture\n",
    "    yield from filter(lambda t: t, prim.Textures.FaceTextures)\n",
    "\n",
    "def display_multi_image(paths, max_width=256):\n",
    "    tags = [f'<img src=\"{path}\" style=\"display: inline-block; max-width: {max_width}px\">' for path in paths]\n",
    "    display_html('\\n'.join(tags), raw=True)\n",
    "\n",
    "def get_image_path(uuid):\n",
    "    path = os.path.join('img_cache', str(uuid) + '.png')\n",
    "    if not os.path.exists(path):\n",
    "        client.GetTextureByUUID(uuid).Save(path)\n",
    "    return path\n",
    "\n",
    "@client_event_handler(client.Avatars.ViewerEffectPointAt)\n",
    "def handle_viewer_effect_point_at(sender, args):\n",
    "    if args.PointType == PointAtType.Select:\n",
    "        local_id = client.GetPrimLocalId(args.TargetID)\n",
    "        parent_id = client.GetParentLocalId(local_id)\n",
    "        parent_id = parent_id or local_id\n",
    "        link_set = list(client.GetLinkSetLocalIds(parent_id))\n",
    "        prims = [client.Objects.GetPrimitive(args.Simulator, System.UInt32(id), UUID.Zero, False) for id in link_set]\n",
    "        tex_info = [info for prim in prims for info in get_prim_texture_info(prim)]\n",
    "        tex_uuids = list({info.TextureID for info in tex_info})\n",
    "        clear_output()\n",
    "        print(\"Loading images, please wait...\")\n",
    "        file_paths = [get_image_path(uuid) for uuid in tex_uuids]\n",
    "        clear_output()\n",
    "        display_multi_image(file_paths, 64)"
   ]
  },
  {
   "cell_type": "code",
   "execution_count": null,
   "metadata": {},
   "outputs": [],
   "source": [
    "bar = 0\n",
    "def foo(s, a):\n",
    "    global bar\n",
    "    print(bar)\n",
    "    bar += 1"
   ]
  },
  {
   "cell_type": "code",
   "execution_count": null,
   "metadata": {},
   "outputs": [],
   "source": [
    "event_handler"
   ]
  },
  {
   "cell_type": "markdown",
   "metadata": {},
   "source": [
    "# Stop the client"
   ]
  },
  {
   "cell_type": "code",
   "execution_count": 29,
   "metadata": {},
   "outputs": [],
   "source": [
    "client.stop()"
   ]
  }
 ],
 "metadata": {
  "kernelspec": {
   "display_name": "Python 3",
   "language": "python",
   "name": "python3"
  },
  "language_info": {
   "codemirror_mode": {
    "name": "ipython",
    "version": 3
   },
   "file_extension": ".py",
   "mimetype": "text/x-python",
   "name": "python",
   "nbconvert_exporter": "python",
   "pygments_lexer": "ipython3",
   "version": "3.7.6"
  }
 },
 "nbformat": 4,
 "nbformat_minor": 2
}
