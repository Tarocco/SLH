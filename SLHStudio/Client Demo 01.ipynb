{
 "cells": [
  {
   "cell_type": "markdown",
   "metadata": {},
   "source": [
    "# Setup\n",
    "Update path, load assemblies and import modules"
   ]
  },
  {
   "cell_type": "code",
   "execution_count": null,
   "metadata": {},
   "outputs": [],
   "source": [
    "import os\n",
    "import sys\n",
    "sys.path.extend([\n",
    "    '.venv/Lib',\n",
    "    '.venv/Lib/site-packages',\n",
    "    '../LibSLH/bin/Release/net48'])\n",
    "import clr\n",
    "sys.path.append('')\n",
    "\n",
    "clr.AddReference('System.Drawing')\n",
    "clr.AddReference('System.Net')\n",
    "clr.AddReference('LibreMetaverse')\n",
    "clr.AddReference('LibreMetaverse.StructuredData')\n",
    "clr.AddReference('LibSLH')\n",
    "\n",
    "# Commonly used\n",
    "from OpenMetaverse import *\n",
    "from LibSLH import *\n",
    "\n",
    "# Important imports\n",
    "from slhstudio import *\n",
    "from helpers import *\n",
    "\n",
    "# Used for specific examples\n",
    "import System.Drawing.Imaging\n",
    "from System.Net import HttpWebRequest\n",
    "from OpenMetaverse.Http import CapsBase\n",
    "from OpenMetaverse.StructuredData import *\n",
    "import math\n",
    "import asyncio\n",
    "from IPython.display import display, display_html, clear_output\n",
    "from ipywidgets import widgets\n",
    "from collections import defaultdict\n",
    "from types import SimpleNamespace\n",
    "from base64 import b64decode\n",
    "import zlib"
   ]
  },
  {
   "cell_type": "markdown",
   "metadata": {},
   "source": [
    "# Start the Client\n",
    "Can also be used to restart a new client instance"
   ]
  },
  {
   "cell_type": "code",
   "execution_count": null,
   "metadata": {},
   "outputs": [],
   "source": [
    "client = Client()\n",
    "\n",
    "client_namespace = SimpleNamespace()\n",
    "def client_event_handler(event):\n",
    "    return event_handler(client_namespace, event)\n",
    "\n",
    "client.start()"
   ]
  },
  {
   "cell_type": "markdown",
   "metadata": {},
   "source": [
    "# Spin to Load\n",
    "Make the client's camera rotate in place. This ensures that world objects will begin to load for the client as the sim provides updates."
   ]
  },
  {
   "cell_type": "code",
   "execution_count": null,
   "metadata": {
    "scrolled": false
   },
   "outputs": [],
   "source": [
    "def spin_camera(client):\n",
    "    while True:\n",
    "        for i in range(16):\n",
    "            theta = math.pi * i / 16\n",
    "            direction = Vector3(math.cos(theta), math.sin(theta), 0.0)\n",
    "            # Oof gamer https://github.com/pythonnet/pythonnet/issues/906\n",
    "            rotation = Vector3.RotationBetween(Vector3.UnitX, Vector3.Normalize(direction))\n",
    "            target = Vector3.Add(client.Self.SimPosition, direction)  \n",
    "            client.Self.Movement.Camera.LookAt(client.Self.SimPosition, target);\n",
    "            client.Self.Movement.SendUpdate()\n",
    "            yield asyncio.sleep(0.1)\n",
    "\n",
    "client.start_coroutine(spin_camera, \"spin_camera\")"
   ]
  },
  {
   "cell_type": "markdown",
   "metadata": {},
   "source": [
    "# Materials Look-up Table\n",
    "Periodically request the sim for materials data."
   ]
  },
  {
   "cell_type": "code",
   "execution_count": null,
   "metadata": {},
   "outputs": [],
   "source": [
    "materials_lut = dict()\n",
    "\n",
    "def setup_request(address, method, accept_header, content=None):\n",
    "        req = HttpWebRequest.Create(address)\n",
    "        req.Method = method\n",
    "        req.Accept = accept_header\n",
    "        req.ServicePoint.MaxIdleTime = 0\n",
    "        req.ServicePoint.Expect100Continue = False\n",
    "        if content:\n",
    "            stream = req.GetRequestStream()\n",
    "            stream.Write(content)\n",
    "            stream.Close()\n",
    "            req.ContentLength = len(content);\n",
    "        return req\n",
    "\n",
    "def osd_to_dict(osd):\n",
    "    d = {k: v for k, v in zip(osd.Keys, osd.Values)}\n",
    "    for k, v in d.items():\n",
    "        if isinstance(v, OSDMap):\n",
    "            d[k] = osd_to_dict(v)\n",
    "        elif isinstance(v, OSDInteger):\n",
    "            d[k] = v.AsInteger()\n",
    "        elif isinstance(v, OSDReal):\n",
    "            d[k] = v.AsReal()\n",
    "        elif isinstance(v, OSDUUID):\n",
    "            d[k] = v.AsUUID()\n",
    "    return d\n",
    "\n",
    "def binary_to_uuid(osd):\n",
    "    return UUID(osd.AsBinary(), 0)\n",
    "    \n",
    "def request_materials(client):\n",
    "    address = client.Network.CurrentSim.Caps.CapabilityURI(\"RenderMaterials\")\n",
    "    req = setup_request(address, \"GET\", \"application/llsd+xml\")\n",
    "    \n",
    "    def progress_callback(request, response, bytes_received, total_bytes_to_receive):\n",
    "        pass\n",
    "    \n",
    "    def complete_callback(request, response, response_data, error):\n",
    "        #print(request, response, bytes(response_data), error)\n",
    "        sd = OSDParser.DeserializeLLSDXml(response_data)\n",
    "        b64_zipped = sd[\"Zipped\"].AsString()\n",
    "        zipped = b64decode(b64_zipped)\n",
    "        unzipped = zlib.decompress(zipped)\n",
    "        materials_sd = OSDParser.DeserializeLLSDBinary(unzipped)\n",
    "        materials = {binary_to_uuid(x.Value): osd_to_dict(y.Value) for x, y in list(materials_sd)}\n",
    "        materials_lut.update(materials)\n",
    "    \n",
    "    CapsBase.DownloadDataAsync(\n",
    "        req,\n",
    "        client.Settings.CAPS_TIMEOUT,\n",
    "        CapsBase.DownloadProgressEventHandler(progress_callback),\n",
    "        CapsBase.RequestCompletedEventHandler(complete_callback))\n",
    "\n",
    "\n",
    "def update_materials(client):\n",
    "    while True:\n",
    "        request_materials(client)\n",
    "        yield asyncio.sleep(5)\n",
    "        \n",
    "client.start_coroutine(update_materials, \"update_materials\")"
   ]
  },
  {
   "cell_type": "markdown",
   "metadata": {},
   "source": [
    "# Examples"
   ]
  },
  {
   "cell_type": "markdown",
   "metadata": {},
   "source": [
    "### Say a message in local chat"
   ]
  },
  {
   "cell_type": "code",
   "execution_count": null,
   "metadata": {},
   "outputs": [],
   "source": [
    "def say(obj):\n",
    "    client.Self.Chat(str(obj), 0, ChatType.Normal)"
   ]
  },
  {
   "cell_type": "code",
   "execution_count": null,
   "metadata": {},
   "outputs": [],
   "source": [
    "say([x for x in range(10)])"
   ]
  },
  {
   "cell_type": "markdown",
   "metadata": {},
   "source": [
    "### Misc. examples"
   ]
  },
  {
   "cell_type": "code",
   "execution_count": null,
   "metadata": {},
   "outputs": [],
   "source": [
    "avatars = {str(e.Key): str(e.Value) for e in client.Network.CurrentSim.AvatarPositions.Copy()}\n",
    "say(avatars)\n",
    "print(avatars)"
   ]
  },
  {
   "cell_type": "code",
   "execution_count": null,
   "metadata": {},
   "outputs": [],
   "source": [
    "{str(e.Key): str(e.Value) for e in client.Friends.FriendList.Copy()}"
   ]
  },
  {
   "cell_type": "code",
   "execution_count": null,
   "metadata": {},
   "outputs": [],
   "source": [
    "def debug_point_at(sender, args):\n",
    "    pt = str(args.PointType)\n",
    "    id = str(args.TargetID)\n",
    "    pos = str(args.TargetPosition)\n",
    "    message = f'{pt}, {id}, {pos}'\n",
    "    client.Self.Chat(message, 0, ChatType.Normal)\n",
    "remove_all_event_handlers(client.Avatars, 'ViewerEffectPointAt')\n",
    "client.Avatars.ViewerEffectPointAt += debug_point_at"
   ]
  },
  {
   "cell_type": "markdown",
   "metadata": {},
   "source": [
    "### Accept teleport requests"
   ]
  },
  {
   "cell_type": "code",
   "execution_count": null,
   "metadata": {},
   "outputs": [],
   "source": [
    "# TODO\n",
    "authorized_avatars = {}\n",
    "authorized_av_tf = widgets.Text()\n",
    "display(authorized_av_tf)\n",
    "\n",
    "def authorized_av_tf_submit(sender):\n",
    "    avatars = sender.value.split(',')\n",
    "    query_ids = [UUID.Random() for _ in avatars]\n",
    "    lookup = dict(zip(query_ids, avatars))\n",
    "    def handle_reply(sender, args):\n",
    "        # args.Avatars seems to always have just 1 element\n",
    "        if args.QueryID in lookup:\n",
    "            info = list(args.Avatars)[0]\n",
    "            uuid, name = info.Key, info.Value\n",
    "            authorized_avatars[uuid] = name\n",
    "            del lookup[args.QueryID]\n",
    "        if not lookup:\n",
    "            print('done')\n",
    "            client.Avatars.AvatarPickerReply -= handle_reply\n",
    "        \n",
    "    \n",
    "    remove_all_event_handlers(client.Avatars, 'AvatarPickerReply')\n",
    "    client.Avatars.AvatarPickerReply += handle_reply\n",
    "    for qid in lookup:\n",
    "        client.Avatars.RequestAvatarNameSearch(lookup[qid], qid)\n",
    "\n",
    "@client_event_handler(client.Self.IM)\n",
    "def handle_instant_message(sender, args):\n",
    "    dialog = args.IM.Dialog\n",
    "    if dialog == 22: # RequestTeleport\n",
    "        from_agent_id = args.IM.FromAgentID\n",
    "        if from_agent_id in authorized_avatars:\n",
    "            session_id = args.IM.IMSessionID\n",
    "            client.Self.TeleportLureRespond(from_agent_id, session_id, True)\n",
    "    \n",
    "\n",
    "authorized_av_tf.on_submit(authorized_av_tf_submit)"
   ]
  },
  {
   "cell_type": "markdown",
   "metadata": {},
   "source": [
    "### Debug Textures!"
   ]
  },
  {
   "cell_type": "code",
   "execution_count": null,
   "metadata": {},
   "outputs": [],
   "source": [
    "def get_prim_texture_info(prim):\n",
    "    yield prim.Textures.DefaultTexture\n",
    "    yield from filter(lambda t: t, prim.Textures.FaceTextures)\n",
    "\n",
    "def display_multi_image(paths, max_width=256):\n",
    "    tags = [f'<img src=\"{path}\" style=\"display: inline-block; max-width: {max_width}px\">' for path in paths]\n",
    "    display_html('\\n'.join(tags), raw=True)\n",
    "\n",
    "def get_image_path(uuid):\n",
    "    path = os.path.join('img_cache', str(uuid) + '.png')\n",
    "    if not os.path.exists(path):\n",
    "        client.GetTextureByUUID(uuid).Save(path)\n",
    "    return path\n",
    "\n",
    "\n",
    "@client_event_handler(client.Avatars.ViewerEffectPointAt)\n",
    "def handle_viewer_effect_point_at(sender, args):\n",
    "    if args.PointType == PointAtType.Select:\n",
    "        local_id = client.GetPrimLocalId(args.TargetID)\n",
    "        parent_id = client.GetParentLocalId(local_id)\n",
    "        parent_id = parent_id or local_id\n",
    "        link_set = list(client.GetLinkSetLocalIds(parent_id))\n",
    "        prims = [client.Objects.GetPrimitive(args.Simulator, System.UInt32(id), UUID.Zero, False)\n",
    "                 for id in link_set]\n",
    "        tex_info = [info for prim in prims for info in get_prim_texture_info(prim)]\n",
    "        tex_uuids = {info.TextureID for info in tex_info}\n",
    "        mat_uuids = {info.MaterialID for info in tex_info}\n",
    "        try:\n",
    "            for mat_uuid in mat_uuids:\n",
    "                if mat_uuid in materials_lut:\n",
    "                    normal_tex = materials_lut[mat_uuid]['NormMap']\n",
    "                    shiny_tex = materials_lut[mat_uuid]['SpecMap']\n",
    "                    if normal_tex != UUID.Zero:\n",
    "                        tex_uuids.add(normal_tex)\n",
    "                    if shiny_tex != UUID.Zero:\n",
    "                        tex_uuids.add(shiny_tex)\n",
    "        except Exception as e:\n",
    "            print(e)\n",
    "            raise e\n",
    "        clear_output()\n",
    "        print(\"Loading images, please wait...\")\n",
    "        file_paths = [get_image_path(uuid) for uuid in tex_uuids]\n",
    "        clear_output()\n",
    "        display_multi_image(file_paths, 64)\n",
    "        for material_id in mat_uuids:\n",
    "            request_material(material_id)"
   ]
  },
  {
   "cell_type": "code",
   "execution_count": null,
   "metadata": {},
   "outputs": [],
   "source": [
    "bar = 0\n",
    "def foo(s, a):\n",
    "    global bar\n",
    "    print(bar)\n",
    "    bar += 1"
   ]
  },
  {
   "cell_type": "code",
   "execution_count": null,
   "metadata": {},
   "outputs": [],
   "source": [
    "client._coroutines"
   ]
  },
  {
   "cell_type": "markdown",
   "metadata": {},
   "source": [
    "# Stop the client"
   ]
  },
  {
   "cell_type": "code",
   "execution_count": null,
   "metadata": {},
   "outputs": [],
   "source": [
    "client.stop()"
   ]
  }
 ],
 "metadata": {
  "kernelspec": {
   "display_name": "Python 3",
   "language": "python",
   "name": "python3"
  },
  "language_info": {
   "codemirror_mode": {
    "name": "ipython",
    "version": 3
   },
   "file_extension": ".py",
   "mimetype": "text/x-python",
   "name": "python",
   "nbconvert_exporter": "python",
   "pygments_lexer": "ipython3",
   "version": "3.7.6"
  }
 },
 "nbformat": 4,
 "nbformat_minor": 2
}
